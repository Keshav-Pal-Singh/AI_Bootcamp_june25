{
  "nbformat": 4,
  "nbformat_minor": 0,
  "metadata": {
    "colab": {
      "provenance": []
    },
    "kernelspec": {
      "name": "python3",
      "display_name": "Python 3"
    },
    "language_info": {
      "name": "python"
    }
  },
  "cells": [
    {
      "cell_type": "code",
      "execution_count": null,
      "metadata": {
        "id": "yBZt216K3qnw"
      },
      "outputs": [],
      "source": [
        "def add(x, y):\n",
        "    \"\"\"This function adds two numbers\"\"\"\n",
        "    return x + y\n",
        "def subtract(x, y):\n",
        "    \"\"\"This function subtracts two numbers\"\"\"\n",
        "    return x - y\n",
        "def multiply(x, y):\n",
        "    \"\"\"This function multiplies two numbers\"\"\"\n",
        "    return x * y\n",
        "def divide(x, y):\n",
        "    \"\"\"This function divides two numbers\"\"\"\n",
        "    return x / y\n",
        "print(\"Select operation.\")\n",
        "print(\"1.Add\")\n",
        "print(\"2.Subtract\")\n",
        "print(\"3.Multiply\")\n",
        "print(\"4.Divide\")\n",
        "while True:\n",
        "    # take input from the user\n",
        "    choice = input(\"Enter choice(1/2/3/4): \")\n",
        "    # check if choice is one of the four options\n",
        "    if choice in ('1', '2', '3', '4'):\n",
        "        num1 = float(input(\"Enter first number: \"))\n",
        "        num2 = float(input(\"Enter second number: \"))\n",
        "        if choice == '1':\n",
        "            print(num1, \"+\", num2, \"=\", add(num1, num2))\n",
        "        elif choice == '2':\n",
        "            print(num1, \"-\", num2, \"=\", subtract(num1, num2))\n",
        "        elif choice == '3':\n",
        "            print(num1, \"*\", num2, \"=\", multiply(num1, num2))\n",
        "        elif choice == '4':\n",
        "            print(num1, \"/\", num2, \"=\", divide(num1, num2))\n",
        "        break\n",
        "    else:\n",
        "        print(\"Invalid Input\")"
      ]
    }
  ]
}